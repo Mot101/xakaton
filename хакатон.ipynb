{
 "cells": [
  {
   "cell_type": "code",
   "execution_count": 18,
   "id": "27501a2f",
   "metadata": {},
   "outputs": [],
   "source": [
    "import pandas as pd\n",
    "import matplotlib.pyplot as plt\n",
    "from matplotlib import transforms\n",
    "import numpy as np\n",
    "import os\n",
    "import time"
   ]
  },
  {
   "cell_type": "code",
   "execution_count": 19,
   "id": "a46830fb",
   "metadata": {},
   "outputs": [],
   "source": [
    "def load_Positions(k):\n",
    "    df1=pd.read_csv(f'PositionsM{k:02}.dat', sep='\\t')\n",
    "    return df1\n"
   ]
  },
  {
   "cell_type": "code",
   "execution_count": 20,
   "id": "dd66e2ca",
   "metadata": {},
   "outputs": [],
   "source": [
    "def Processing_Events(k): # рассчитываем массив, где для индекса i - i частицы значение - суммарная энергия фотопов\n",
    "    df1 = pd.read_csv(f'PositionsM{k:02}.dat', sep='\\t')\n",
    "    print(len(df1))\n",
    "    if(k != 24 or k != 25 or k !=  26): # объяснено тем, что файлы в M24,M25,M26 названы по-другому\n",
    "        ans=np.zeros(len(df1)) # размер обусловлен начальным условием\n",
    "        for i in range(len(df1)):  \n",
    "            if (os.path.exists(f'EventM{k:02}{i:05}.dat') == False):\n",
    "                continue\n",
    "            else:\n",
    "                df2 = pd.read_csv(f'EventM{k:02}{i:05}.dat', sep='\\t')\n",
    "                ans[i] = df2['Energy'].sum()\n",
    "    else:\n",
    "        for i in range(len(df1)):\n",
    "                if (os.path.exists(f'M{k:02}Event{i:05}.dat') == False):\n",
    "                     continue\n",
    "                else:\n",
    "                    df2 = pd.read_csv(f'M{k:02}Event{i:05}.dat',sep='\\t')\n",
    "                    ans[i] = df2['Energy'].sum()\n",
    "    return ans "
   ]
  },
  {
   "cell_type": "code",
   "execution_count": 21,
   "id": "89d1c068",
   "metadata": {},
   "outputs": [],
   "source": [
    "def different_cells(x,y,size,delta,nbr):\n",
    "    fig, axs = plt.subplots(nrows= size , ncols= size )\n",
    "    k=1\n",
    "    for i in range(size):\n",
    "        for j in range(size):\n",
    "            x_lim=np.random.rand()*min(x)\n",
    "            y_lim=np.random.rand()*min(y)\n",
    "            plt.subplot(size,size,k)\n",
    "            k+=1\n",
    "            plt.xlim([x_lim,x_lim+delta])\n",
    "            plt.ylim([y_lim,y_lim+delta])\n",
    "            plt.xticks([])\n",
    "            plt.yticks([])\n",
    "            plt.scatter(x,y)\n",
    "\n",
    "    fig.savefig(f'saved_figure{delta}M{nbr}.png')"
   ]
  },
  {
   "cell_type": "code",
   "execution_count": 23,
   "id": "b92e79f9",
   "metadata": {},
   "outputs": [],
   "source": [
    "def comprasion_xy_to_xy_grid(x_grid,y_grid,E_grid,temp_x,temp_y,E,i): #переобозначение координат частиц в сетку\n",
    "    for i in range(len(temp_x)):\n",
    "        temp_x_1 = np.abs(x_grid - temp_x[i])\n",
    "        temp_y_1 = np.abs(y_grid - temp_y[i])\n",
    "        E_grid[temp_x_1.argmin(),temp_y_1.argmin()]+=E[i]\n",
    "    return E_grid\n",
    "    \n"
   ]
  },
  {
   "cell_type": "code",
   "execution_count": 24,
   "id": "497c5136",
   "metadata": {},
   "outputs": [],
   "source": [
    "def get_xy(k,i):\n",
    "    df1 = pd.read_csv(f'PositionsM{k:02}.dat', sep='\\t')\n",
    "    return df1['Sc_x'][i] , df1['Sc_y'][i]"
   ]
  },
  {
   "cell_type": "code",
   "execution_count": 25,
   "id": "9645caba",
   "metadata": {},
   "outputs": [],
   "source": [
    "def creating_db_energy(k):\n",
    "    df1 = pd.read_csv(f'PositionsM{k:02}.dat', sep='\\t')\n",
    "    temp_x=df1['Sc_x'].to_numpy()\n",
    "    temp_y=df1['Sc_y'].to_numpy()\n",
    "    temp_E=Processing_Events(k)\n",
    "    x_grid = np.arange(-520,520,20)\n",
    "    y_grid = np.arange(-520,520,20)\n",
    "    E_grid = np.zeros([52,52])\n",
    "    for i in range(len(temp_x)):\n",
    "        temp_x_1 = np.abs(x_grid - temp_x[i])\n",
    "        temp_y_1 = np.abs(y_grid - temp_y[i])\n",
    "        E_grid[temp_x_1.argmin(),temp_y_1.argmin()]+=temp_E[i]\n",
    "    return x_grid,y_grid,E_grid\n"
   ]
  },
  {
   "cell_type": "code",
   "execution_count": 26,
   "id": "ee6b35df",
   "metadata": {},
   "outputs": [],
   "source": [
    "def creating_map(k):\n",
    "    plt.figure(figsize=(10,10))\n",
    "    x,y,E=creating_db_energy(k)\n",
    "    X, Y = np.meshgrid(x, y)\n",
    "    E_temp = E.copy()\n",
    "    E_temp[26:53,:] = np.flip(E[0:26,:]) # т.к. изначально только для правой половины (из условия)\n",
    "    temp_temp = E_temp.max()\n",
    "    for i in range(52):\n",
    "        for j in range(52):\n",
    "            if E_temp[i,j]>0.75*temp_temp:\n",
    "                E_temp[i,j]=0.75*temp_temp\n",
    "    #cрез по x=0 i=26\n",
    "    temp_E_ratio=E_temp/(np.sum(E_temp)/2704)\n",
    "    temp_sum=np.sum(E_temp[26,:])\n",
    "    temp_E_x=E_temp[26,:]*52/temp_sum\n",
    "    plt.plot(x,temp_E_x)\n",
    "    plt.savefig(f'matrixM{k:02}_1.png')\n",
    "    plt.clf()\n",
    "    ptr=plt.contourf(Y,X, temp_E_ratio, cmap=plt.cm.jet, levels=200, extend='both')\n",
    "    plt.colorbar(ptr)\n",
    "    plt.savefig(f'matrixM{k:02}_2.png')\n",
    "    plt.clf()\n",
    "    #plt.subplot(2,2,4)\n",
    "    temp_sum=np.sum(E_temp[:,26])\n",
    "    temp_E_y=E_temp[:,26]*52/temp_sum\n",
    "    plt.plot(x,temp_E_y)\n",
    "    plt.savefig(f'matrixM{k:02}_3.png')\n",
    "    plt.show()"
   ]
  },
  {
   "cell_type": "code",
   "execution_count": null,
   "id": "58877d52",
   "metadata": {},
   "outputs": [],
   "source": [
    "st=[7,9,10,11,24,25,26]\n",
    "for a in st:\n",
    "    creating_map(a)"
   ]
  }
 ],
 "metadata": {
  "kernelspec": {
   "display_name": "Python 3 (ipykernel)",
   "language": "python",
   "name": "python3"
  },
  "language_info": {
   "codemirror_mode": {
    "name": "ipython",
    "version": 3
   },
   "file_extension": ".py",
   "mimetype": "text/x-python",
   "name": "python",
   "nbconvert_exporter": "python",
   "pygments_lexer": "ipython3",
   "version": "3.9.12"
  }
 },
 "nbformat": 4,
 "nbformat_minor": 5
}
